{
 "cells": [
  {
   "cell_type": "markdown",
   "id": "e3f4a255-464f-4a0c-84aa-a35c3285c612",
   "metadata": {},
   "source": [
    "## Assignment Instructions\n",
    "\n",
    "> ### 1. Simulate a dataset of 100 rows with the following:\n",
    "\n",
    "1. X1: Normally distributed, mean = 50, SD = 25\n",
    "2. X2: Normally distributed, mean = 10, SD = 2\n",
    "3. X3: Binary variable (0 or 1), with a 30% probability of being 1\n",
    "   \n",
    "(Tip: Use a Bernoulli distribution with p = 0.3 — the exact proportion in your dataset may vary slightly.) ",
    "\n",
    "\n",
    "> ### 2. Generate the outcome variable y as:\n",
    "\n",
    "Create y using the formula:\n",
    "\n",
    "y = 1 * X1 + 5 * X2 + 10 * X3 + error\n",
    "\n",
    "Where: error is a random value drawn from a normal distribution with a mean of 0 and a standard deviation of 2.\n",
    "\n",
    "> ### 3. Fit a linear regression model:\n",
    "\n",
    "Model: y ~ X1 + X2 + X3\n",
    "Use the statsmodels library in Python.\n",
    "\n",
    ">## Output the following:\n",
    "1. Coefficients for each variable\n",
    "2. R-squared value\n",
    "3. P-values for each coefficient\n"
   ]
  },
  {
   "cell_type": "code",
   "execution_count": 29,
   "id": "1c0c3c60-1178-43cd-9dc5-b6445bc2b743",
   "metadata": {},
   "outputs": [],
   "source": [
    "# Import libraries\n",
    "import pandas as pd\n",
    "import numpy as np\n",
    "\n",
    "# Visualizatiosn\n",
    "import matplotlib.pyplot as plt\n",
    "import seaborn as sns\n",
    "%matplotlib inline"
   ]
  },
  {
   "cell_type": "markdown",
   "id": "4743c344-91cf-427d-af4b-d641f55659f3",
   "metadata": {},
   "source": [
    "### Dataset Simulation"
   ]
  },
  {
   "cell_type": "code",
   "execution_count": 84,
   "id": "a876a40a-dc73-427f-9f20-865fce67fad5",
   "metadata": {},
   "outputs": [
    {
     "name": "stdout",
     "output_type": "stream",
     "text": [
      "Len of X1:100, mean:47.40383706514766, std:22.59040441611574\n",
      "\n",
      "Len of X2:100, mean:10.044609174099847, std:1.8977772810212923\n",
      "\n",
      "Len of X3:100, mean:0.26, std:0.4386342439892262\n",
      "Bernoulli Count: (array([0, 1]), array([74, 26]))\n"
     ]
    }
   ],
   "source": [
    "# Set a random seed for reproducability\n",
    "np.random.seed(42)\n",
    "\n",
    "# Dataset of 100 rows for X1, X2, X3\n",
    "size = 100\n",
    "\n",
    "# X1 - Normal distribution (mean=50, std=25)\n",
    "X1 = np.random.normal(loc=50, scale=25, size=size)\n",
    "print(f'Len of X1:{len(X1)}, mean:{np.mean(X1)}, std:{np.std(X1)}\\n')\n",
    "\n",
    "# X2 - Normal distribution (mean=10, std=2)\n",
    "X2 = np.random.normal(loc=10, scale=2, size=size)\n",
    "print(f'Len of X2:{len(X2)}, mean:{np.mean(X2)}, std:{np.std(X2)}\\n')\n",
    "\n",
    "# X3 - Bernoulli with 0.3P\n",
    "X3 = np.random.binomial(n=1, p=0.3, size=size)\n",
    "print(f'Len of X3:{len(X3)}, mean:{np.mean(X3)}, std:{np.std(X3)}')\n",
    "print(f'Bernoulli Count: {np.unique(X3, return_counts=True)}')"
   ]
  },
  {
   "cell_type": "code",
   "execution_count": 85,
   "id": "769556be-10e9-4fba-895f-a78b03805488",
   "metadata": {},
   "outputs": [
    {
     "name": "stdout",
     "output_type": "stream",
     "text": [
      "(100, 3)\n"
     ]
    },
    {
     "data": {
      "text/html": [
       "<div>\n",
       "<style scoped>\n",
       "    .dataframe tbody tr th:only-of-type {\n",
       "        vertical-align: middle;\n",
       "    }\n",
       "\n",
       "    .dataframe tbody tr th {\n",
       "        vertical-align: top;\n",
       "    }\n",
       "\n",
       "    .dataframe thead th {\n",
       "        text-align: right;\n",
       "    }\n",
       "</style>\n",
       "<table border=\"1\" class=\"dataframe\">\n",
       "  <thead>\n",
       "    <tr style=\"text-align: right;\">\n",
       "      <th></th>\n",
       "      <th>X1</th>\n",
       "      <th>X2</th>\n",
       "      <th>X3</th>\n",
       "    </tr>\n",
       "  </thead>\n",
       "  <tbody>\n",
       "    <tr>\n",
       "      <th>0</th>\n",
       "      <td>62.417854</td>\n",
       "      <td>7.169259</td>\n",
       "      <td>1</td>\n",
       "    </tr>\n",
       "    <tr>\n",
       "      <th>1</th>\n",
       "      <td>46.543392</td>\n",
       "      <td>9.158709</td>\n",
       "      <td>1</td>\n",
       "    </tr>\n",
       "    <tr>\n",
       "      <th>2</th>\n",
       "      <td>66.192213</td>\n",
       "      <td>9.314571</td>\n",
       "      <td>0</td>\n",
       "    </tr>\n",
       "    <tr>\n",
       "      <th>3</th>\n",
       "      <td>88.075746</td>\n",
       "      <td>8.395445</td>\n",
       "      <td>1</td>\n",
       "    </tr>\n",
       "    <tr>\n",
       "      <th>4</th>\n",
       "      <td>44.146166</td>\n",
       "      <td>9.677429</td>\n",
       "      <td>0</td>\n",
       "    </tr>\n",
       "  </tbody>\n",
       "</table>\n",
       "</div>"
      ],
      "text/plain": [
       "          X1        X2  X3\n",
       "0  62.417854  7.169259   1\n",
       "1  46.543392  9.158709   1\n",
       "2  66.192213  9.314571   0\n",
       "3  88.075746  8.395445   1\n",
       "4  44.146166  9.677429   0"
      ]
     },
     "execution_count": 85,
     "metadata": {},
     "output_type": "execute_result"
    }
   ],
   "source": [
    "# Create DataFrame for easier handling and viewing\n",
    "df = pd.DataFrame({\n",
    "    'X1': X1,\n",
    "    'X2': X2,\n",
    "    'X3': X3\n",
    "})\n",
    "\n",
    "# Check the shape of the df\n",
    "print(df.shape)\n",
    "\n",
    "# Print the first 5 rows\n",
    "df.head()"
   ]
  },
  {
   "cell_type": "markdown",
   "id": "7d5fc848-ae6c-44aa-8600-5e560c08a19b",
   "metadata": {},
   "source": [
    "## Visualizations"
   ]
  },
  {
   "cell_type": "code",
   "execution_count": 36,
   "id": "517f8996-867a-4835-89e8-5c2e5f376ab6",
   "metadata": {},
   "outputs": [
    {
     "data": {
      "text/plain": [
       "<AxesSubplot:ylabel='Count'>"
      ]
     },
     "execution_count": 36,
     "metadata": {},
     "output_type": "execute_result"
    },
    {
     "data": {
      "image/png": "[encoded data removed]",
      "text/plain": [
       "<Figure size 432x288 with 1 Axes>"
      ]
     },
     "metadata": {
      "needs_background": "light"
     },
     "output_type": "display_data"
    }
   ],
   "source": [
    "sns.histplot(X1, kde=True);"
   ]
  },
  {
   "cell_type": "code",
   "execution_count": 50,
   "id": "789179a8-b725-40de-8027-0293521350de",
   "metadata": {},
   "outputs": [
    {
     "data": {
      "image/png": "[encoded data removed]",
      "text/plain": [
       "<Figure size 432x288 with 1 Axes>"
      ]
     },
     "metadata": {
      "needs_background": "light"
     },
     "output_type": "display_data"
    }
   ],
   "source": [
    "sns.histplot(X2, kde=True);"
   ]
  },
  {
   "cell_type": "code",
   "execution_count": 125,
   "id": "020ee9cd-9e31-4909-8455-f4485dbbc5e9",
   "metadata": {},
   "outputs": [
    {
     "name": "stdout",
     "output_type": "stream",
     "text": [
      "[0 1]\n",
      "[74 26]\n"
     ]
    },
    {
     "data": {
      "image/png": "[encoded data removed]",
      "text/plain": [
       "<Figure size 432x288 with 1 Axes>"
      ]
     },
     "metadata": {
      "needs_background": "light"
     },
     "output_type": "display_data"
    }
   ],
   "source": [
    "# Visualize X3 Bernoulli dist \n",
    "values, counts = np.unique(X3, return_counts=True)\n",
    "print(values)\n",
    "print(counts)\n",
    "\n",
    "plt.bar(values, counts/100, align='center', alpha=0.8)\n",
    "plt.xticks(values)\n",
    "plt.ylabel('Fraction')\n",
    "plt.title('Bernoulli Distibution with 0.3 Prob');"
   ]
  },
  {
   "cell_type": "code",
   "execution_count": 49,
   "id": "ba6c5714-d802-42a1-acc4-d315dad55432",
   "metadata": {
    "scrolled": true
   },
   "outputs": [
    {
     "data": {
      "image/png": "[encoded data removed]",
      "text/plain": [
       "<Figure size 432x288 with 1 Axes>"
      ]
     },
     "metadata": {
      "needs_background": "light"
     },
     "output_type": "display_data"
    }
   ],
   "source": [
    "# Counting occurrences of 0s and 1s\n",
    "sns.barplot(data=X3);"
   ]
  },
  {
   "cell_type": "markdown",
   "id": "f6dcc9de-b63f-471a-81bd-240c96d85a6c",
   "metadata": {},
   "source": [
    "### Calculating Y variable = 1 * X1 + 5 * X2 + 10 * X3 + error"
   ]
  },
  {
   "cell_type": "code",
   "execution_count": 100,
   "id": "bf1f713d-7747-4245-9947-e88c642b3d29",
   "metadata": {},
   "outputs": [
    {
     "data": {
      "text/html": [
       "<div>\n",
       "<style scoped>\n",
       "    .dataframe tbody tr th:only-of-type {\n",
       "        vertical-align: middle;\n",
       "    }\n",
       "\n",
       "    .dataframe tbody tr th {\n",
       "        vertical-align: top;\n",
       "    }\n",
       "\n",
       "    .dataframe thead th {\n",
       "        text-align: right;\n",
       "    }\n",
       "</style>\n",
       "<table border=\"1\" class=\"dataframe\">\n",
       "  <thead>\n",
       "    <tr style=\"text-align: right;\">\n",
       "      <th></th>\n",
       "      <th>X1</th>\n",
       "      <th>X2</th>\n",
       "      <th>X3</th>\n",
       "      <th>Y</th>\n",
       "      <th>y</th>\n",
       "    </tr>\n",
       "  </thead>\n",
       "  <tbody>\n",
       "    <tr>\n",
       "      <th>0</th>\n",
       "      <td>62.417854</td>\n",
       "      <td>7.169259</td>\n",
       "      <td>1</td>\n",
       "      <td>106.971001</td>\n",
       "      <td>107.345425</td>\n",
       "    </tr>\n",
       "    <tr>\n",
       "      <th>1</th>\n",
       "      <td>46.543392</td>\n",
       "      <td>9.158709</td>\n",
       "      <td>1</td>\n",
       "      <td>100.173843</td>\n",
       "      <td>100.637251</td>\n",
       "    </tr>\n",
       "    <tr>\n",
       "      <th>2</th>\n",
       "      <td>66.192213</td>\n",
       "      <td>9.314571</td>\n",
       "      <td>0</td>\n",
       "      <td>116.139352</td>\n",
       "      <td>114.425740</td>\n",
       "    </tr>\n",
       "    <tr>\n",
       "      <th>3</th>\n",
       "      <td>88.075746</td>\n",
       "      <td>8.395445</td>\n",
       "      <td>1</td>\n",
       "      <td>141.816253</td>\n",
       "      <td>138.340806</td>\n",
       "    </tr>\n",
       "    <tr>\n",
       "      <th>4</th>\n",
       "      <td>44.146166</td>\n",
       "      <td>9.677429</td>\n",
       "      <td>0</td>\n",
       "      <td>92.517363</td>\n",
       "      <td>92.676441</td>\n",
       "    </tr>\n",
       "  </tbody>\n",
       "</table>\n",
       "</div>"
      ],
      "text/plain": [
       "          X1        X2  X3           Y           y\n",
       "0  62.417854  7.169259   1  106.971001  107.345425\n",
       "1  46.543392  9.158709   1  100.173843  100.637251\n",
       "2  66.192213  9.314571   0  116.139352  114.425740\n",
       "3  88.075746  8.395445   1  141.816253  138.340806\n",
       "4  44.146166  9.677429   0   92.517363   92.676441"
      ]
     },
     "execution_count": 100,
     "metadata": {},
     "output_type": "execute_result"
    }
   ],
   "source": [
    "# Error: Random value from normal distribution (mean=0, std=2)\n",
    "error = np.random.normal(0, 2, 100)\n",
    "\n",
    "y = 1 * X1 + 5 * X2 + 10 *X3 + error\n",
    "\n",
    "# Add Y to the dataframe\n",
    "df['y'] = y\n",
    "\n",
    "# Print the first 5 rows\n",
    "df.head()"
   ]
  },
  {
   "cell_type": "code",
   "execution_count": 66,
   "id": "a80e35d2-5d43-474f-b523-d800bd13e046",
   "metadata": {},
   "outputs": [
    {
     "data": {
      "image/png": "[encoded data removed]",
      "text/plain": [
       "<Figure size 432x288 with 1 Axes>"
      ]
     },
     "metadata": {
      "needs_background": "light"
     },
     "output_type": "display_data"
    }
   ],
   "source": [
    "# Plot the distribution of Y\n",
    "sns.histplot(Y, kde=True);"
   ]
  },
  {
   "cell_type": "code",
   "execution_count": 92,
   "id": "0b430c78-40a3-45d8-b51b-6fc251ccc4da",
   "metadata": {},
   "outputs": [
    {
     "data": {
      "text/html": [
       "<div>\n",
       "<style scoped>\n",
       "    .dataframe tbody tr th:only-of-type {\n",
       "        vertical-align: middle;\n",
       "    }\n",
       "\n",
       "    .dataframe tbody tr th {\n",
       "        vertical-align: top;\n",
       "    }\n",
       "\n",
       "    .dataframe thead th {\n",
       "        text-align: right;\n",
       "    }\n",
       "</style>\n",
       "<table border=\"1\" class=\"dataframe\">\n",
       "  <thead>\n",
       "    <tr style=\"text-align: right;\">\n",
       "      <th></th>\n",
       "      <th>X1</th>\n",
       "      <th>X2</th>\n",
       "      <th>X3</th>\n",
       "      <th>Y</th>\n",
       "    </tr>\n",
       "  </thead>\n",
       "  <tbody>\n",
       "    <tr>\n",
       "      <th>count</th>\n",
       "      <td>100.000000</td>\n",
       "      <td>100.000000</td>\n",
       "      <td>100.000000</td>\n",
       "      <td>100.000000</td>\n",
       "    </tr>\n",
       "    <tr>\n",
       "      <th>mean</th>\n",
       "      <td>47.403837</td>\n",
       "      <td>10.044609</td>\n",
       "      <td>0.260000</td>\n",
       "      <td>100.032697</td>\n",
       "    </tr>\n",
       "    <tr>\n",
       "      <th>std</th>\n",
       "      <td>22.704211</td>\n",
       "      <td>1.907338</td>\n",
       "      <td>0.440844</td>\n",
       "      <td>24.262424</td>\n",
       "    </tr>\n",
       "    <tr>\n",
       "      <th>min</th>\n",
       "      <td>-15.493628</td>\n",
       "      <td>6.162458</td>\n",
       "      <td>0.000000</td>\n",
       "      <td>37.852830</td>\n",
       "    </tr>\n",
       "    <tr>\n",
       "      <th>25%</th>\n",
       "      <td>34.977358</td>\n",
       "      <td>8.388679</td>\n",
       "      <td>0.000000</td>\n",
       "      <td>82.811187</td>\n",
       "    </tr>\n",
       "    <tr>\n",
       "      <th>50%</th>\n",
       "      <td>46.826093</td>\n",
       "      <td>10.168214</td>\n",
       "      <td>0.000000</td>\n",
       "      <td>98.950724</td>\n",
       "    </tr>\n",
       "    <tr>\n",
       "      <th>75%</th>\n",
       "      <td>60.148801</td>\n",
       "      <td>11.076341</td>\n",
       "      <td>1.000000</td>\n",
       "      <td>115.128390</td>\n",
       "    </tr>\n",
       "    <tr>\n",
       "      <th>max</th>\n",
       "      <td>96.306955</td>\n",
       "      <td>15.440338</td>\n",
       "      <td>1.000000</td>\n",
       "      <td>168.496916</td>\n",
       "    </tr>\n",
       "  </tbody>\n",
       "</table>\n",
       "</div>"
      ],
      "text/plain": [
       "               X1          X2          X3           Y\n",
       "count  100.000000  100.000000  100.000000  100.000000\n",
       "mean    47.403837   10.044609    0.260000  100.032697\n",
       "std     22.704211    1.907338    0.440844   24.262424\n",
       "min    -15.493628    6.162458    0.000000   37.852830\n",
       "25%     34.977358    8.388679    0.000000   82.811187\n",
       "50%     46.826093   10.168214    0.000000   98.950724\n",
       "75%     60.148801   11.076341    1.000000  115.128390\n",
       "max     96.306955   15.440338    1.000000  168.496916"
      ]
     },
     "execution_count": 92,
     "metadata": {},
     "output_type": "execute_result"
    }
   ],
   "source": [
    "# Statistical analysis of all adat points\n",
    "df.describe()"
   ]
  },
  {
   "cell_type": "code",
   "execution_count": 101,
   "id": "9df29fa8-82cc-4f9d-a5b0-b1846c62b04f",
   "metadata": {},
   "outputs": [
    {
     "data": {
      "text/plain": [
       "X1    0.892497\n",
       "X2    0.282869\n",
       "X3    0.267440\n",
       "Y     0.992442\n",
       "y     1.000000\n",
       "Name: y, dtype: float64"
      ]
     },
     "execution_count": 101,
     "metadata": {},
     "output_type": "execute_result"
    }
   ],
   "source": [
    "# Correlation of independent variables against the dependent variable Y\n",
    "df.corr()['y']"
   ]
  },
  {
   "cell_type": "markdown",
   "id": "a217a46d-6f2b-4022-a65b-85cb07005109",
   "metadata": {},
   "source": [
    "### Train test split the data"
   ]
  },
  {
   "cell_type": "code",
   "execution_count": 98,
   "id": "9032d2fa-8ef8-42a9-9d07-8304451ac752",
   "metadata": {},
   "outputs": [],
   "source": [
    "from sklearn.model_selection import train_test_split"
   ]
  },
  {
   "cell_type": "code",
   "execution_count": 97,
   "id": "5d0105f1-89fd-4cc0-93ef-81b8102f5e5e",
   "metadata": {},
   "outputs": [
    {
     "data": {
      "text/html": [
       "<div>\n",
       "<style scoped>\n",
       "    .dataframe tbody tr th:only-of-type {\n",
       "        vertical-align: middle;\n",
       "    }\n",
       "\n",
       "    .dataframe tbody tr th {\n",
       "        vertical-align: top;\n",
       "    }\n",
       "\n",
       "    .dataframe thead th {\n",
       "        text-align: right;\n",
       "    }\n",
       "</style>\n",
       "<table border=\"1\" class=\"dataframe\">\n",
       "  <thead>\n",
       "    <tr style=\"text-align: right;\">\n",
       "      <th></th>\n",
       "      <th>X1</th>\n",
       "      <th>X2</th>\n",
       "      <th>X3</th>\n",
       "    </tr>\n",
       "  </thead>\n",
       "  <tbody>\n",
       "    <tr>\n",
       "      <th>0</th>\n",
       "      <td>62.417854</td>\n",
       "      <td>7.169259</td>\n",
       "      <td>1</td>\n",
       "    </tr>\n",
       "    <tr>\n",
       "      <th>1</th>\n",
       "      <td>46.543392</td>\n",
       "      <td>9.158709</td>\n",
       "      <td>1</td>\n",
       "    </tr>\n",
       "    <tr>\n",
       "      <th>2</th>\n",
       "      <td>66.192213</td>\n",
       "      <td>9.314571</td>\n",
       "      <td>0</td>\n",
       "    </tr>\n",
       "    <tr>\n",
       "      <th>3</th>\n",
       "      <td>88.075746</td>\n",
       "      <td>8.395445</td>\n",
       "      <td>1</td>\n",
       "    </tr>\n",
       "    <tr>\n",
       "      <th>4</th>\n",
       "      <td>44.146166</td>\n",
       "      <td>9.677429</td>\n",
       "      <td>0</td>\n",
       "    </tr>\n",
       "    <tr>\n",
       "      <th>...</th>\n",
       "      <td>...</td>\n",
       "      <td>...</td>\n",
       "      <td>...</td>\n",
       "    </tr>\n",
       "    <tr>\n",
       "      <th>95</th>\n",
       "      <td>13.412126</td>\n",
       "      <td>10.770635</td>\n",
       "      <td>0</td>\n",
       "    </tr>\n",
       "    <tr>\n",
       "      <th>96</th>\n",
       "      <td>57.403007</td>\n",
       "      <td>8.232285</td>\n",
       "      <td>0</td>\n",
       "    </tr>\n",
       "    <tr>\n",
       "      <th>97</th>\n",
       "      <td>56.526382</td>\n",
       "      <td>10.307450</td>\n",
       "      <td>0</td>\n",
       "    </tr>\n",
       "    <tr>\n",
       "      <th>98</th>\n",
       "      <td>50.127836</td>\n",
       "      <td>10.116417</td>\n",
       "      <td>0</td>\n",
       "    </tr>\n",
       "    <tr>\n",
       "      <th>99</th>\n",
       "      <td>44.135322</td>\n",
       "      <td>7.714059</td>\n",
       "      <td>0</td>\n",
       "    </tr>\n",
       "  </tbody>\n",
       "</table>\n",
       "<p>100 rows × 3 columns</p>\n",
       "</div>"
      ],
      "text/plain": [
       "           X1         X2  X3\n",
       "0   62.417854   7.169259   1\n",
       "1   46.543392   9.158709   1\n",
       "2   66.192213   9.314571   0\n",
       "3   88.075746   8.395445   1\n",
       "4   44.146166   9.677429   0\n",
       "..        ...        ...  ..\n",
       "95  13.412126  10.770635   0\n",
       "96  57.403007   8.232285   0\n",
       "97  56.526382  10.307450   0\n",
       "98  50.127836  10.116417   0\n",
       "99  44.135322   7.714059   0\n",
       "\n",
       "[100 rows x 3 columns]"
      ]
     },
     "execution_count": 97,
     "metadata": {},
     "output_type": "execute_result"
    }
   ],
   "source": [
    "# Define X\n",
    "X = df[['X1', 'X2', 'X3']]\n",
    "X"
   ]
  },
  {
   "cell_type": "code",
   "execution_count": 119,
   "id": "7fb20b71-c192-4fa2-b11b-d6d6bfd7cdea",
   "metadata": {},
   "outputs": [
    {
     "name": "stdout",
     "output_type": "stream",
     "text": [
      "X_train: (75, 3), y_train: (75,)\n"
     ]
    }
   ],
   "source": [
    "X_train, X_test, y_train, y_test = train_test_split(X, y, test_size=0.25, random_state=42)\n",
    "print(f'X_train: {X_train.shape}, y_train: {y_train.shape}')"
   ]
  },
  {
   "cell_type": "markdown",
   "id": "3562257b-e6cc-4a37-872e-96d8079846cc",
   "metadata": {},
   "source": [
    "### Linear Regresson Model fit"
   ]
  },
  {
   "cell_type": "code",
   "execution_count": 105,
   "id": "7e8a3741-2e53-40ed-ac3e-f3f0dd5427fd",
   "metadata": {},
   "outputs": [],
   "source": [
    "# Import modelling libraries\n",
    "import statsmodels.api as sm"
   ]
  },
  {
   "cell_type": "code",
   "execution_count": 115,
   "id": "2aea6c56-6659-49b9-bdfc-a9703a7b417a",
   "metadata": {},
   "outputs": [
    {
     "data": {
      "text/html": [
       "<table class=\"simpletable\">\n",
       "<caption>OLS Regression Results</caption>\n",
       "<tr>\n",
       "  <th>Dep. Variable:</th>            <td>y</td>        <th>  R-squared (uncentered):</th>      <td>   1.000</td> \n",
       "</tr>\n",
       "<tr>\n",
       "  <th>Model:</th>                   <td>OLS</td>       <th>  Adj. R-squared (uncentered):</th> <td>   1.000</td> \n",
       "</tr>\n",
       "<tr>\n",
       "  <th>Method:</th>             <td>Least Squares</td>  <th>  F-statistic:       </th>          <td>5.469e+04</td>\n",
       "</tr>\n",
       "<tr>\n",
       "  <th>Date:</th>             <td>Tue, 08 Jul 2025</td> <th>  Prob (F-statistic):</th>          <td>8.91e-121</td>\n",
       "</tr>\n",
       "<tr>\n",
       "  <th>Time:</th>                 <td>15:12:25</td>     <th>  Log-Likelihood:    </th>          <td> -165.00</td> \n",
       "</tr>\n",
       "<tr>\n",
       "  <th>No. Observations:</th>      <td>    75</td>      <th>  AIC:               </th>          <td>   336.0</td> \n",
       "</tr>\n",
       "<tr>\n",
       "  <th>Df Residuals:</th>          <td>    72</td>      <th>  BIC:               </th>          <td>   342.9</td> \n",
       "</tr>\n",
       "<tr>\n",
       "  <th>Df Model:</th>              <td>     3</td>      <th>                     </th>              <td> </td>    \n",
       "</tr>\n",
       "<tr>\n",
       "  <th>Covariance Type:</th>      <td>nonrobust</td>    <th>                     </th>              <td> </td>    \n",
       "</tr>\n",
       "</table>\n",
       "<table class=\"simpletable\">\n",
       "<tr>\n",
       "   <td></td>     <th>coef</th>     <th>std err</th>      <th>t</th>      <th>P>|t|</th>  <th>[0.025</th>    <th>0.975]</th>  \n",
       "</tr>\n",
       "<tr>\n",
       "  <th>X1</th> <td>    0.9898</td> <td>    0.010</td> <td>  100.946</td> <td> 0.000</td> <td>    0.970</td> <td>    1.009</td>\n",
       "</tr>\n",
       "<tr>\n",
       "  <th>X2</th> <td>    5.0703</td> <td>    0.051</td> <td>   98.547</td> <td> 0.000</td> <td>    4.968</td> <td>    5.173</td>\n",
       "</tr>\n",
       "<tr>\n",
       "  <th>X3</th> <td>    9.4503</td> <td>    0.568</td> <td>   16.646</td> <td> 0.000</td> <td>    8.319</td> <td>   10.582</td>\n",
       "</tr>\n",
       "</table>\n",
       "<table class=\"simpletable\">\n",
       "<tr>\n",
       "  <th>Omnibus:</th>       <td> 0.090</td> <th>  Durbin-Watson:     </th> <td>   1.691</td>\n",
       "</tr>\n",
       "<tr>\n",
       "  <th>Prob(Omnibus):</th> <td> 0.956</td> <th>  Jarque-Bera (JB):  </th> <td>   0.269</td>\n",
       "</tr>\n",
       "<tr>\n",
       "  <th>Skew:</th>          <td> 0.036</td> <th>  Prob(JB):          </th> <td>   0.874</td>\n",
       "</tr>\n",
       "<tr>\n",
       "  <th>Kurtosis:</th>      <td> 2.715</td> <th>  Cond. No.          </th> <td>    118.</td>\n",
       "</tr>\n",
       "</table><br/><br/>Notes:<br/>[1] R² is computed without centering (uncentered) since the model does not contain a constant.<br/>[2] Standard Errors assume that the covariance matrix of the errors is correctly specified."
      ],
      "text/plain": [
       "<class 'statsmodels.iolib.summary.Summary'>\n",
       "\"\"\"\n",
       "                                 OLS Regression Results                                \n",
       "=======================================================================================\n",
       "Dep. Variable:                      y   R-squared (uncentered):                   1.000\n",
       "Model:                            OLS   Adj. R-squared (uncentered):              1.000\n",
       "Method:                 Least Squares   F-statistic:                          5.469e+04\n",
       "Date:                Tue, 08 Jul 2025   Prob (F-statistic):                   8.91e-121\n",
       "Time:                        15:12:25   Log-Likelihood:                         -165.00\n",
       "No. Observations:                  75   AIC:                                      336.0\n",
       "Df Residuals:                      72   BIC:                                      342.9\n",
       "Df Model:                           3                                                  \n",
       "Covariance Type:            nonrobust                                                  \n",
       "==============================================================================\n",
       "                 coef    std err          t      P>|t|      [0.025      0.975]\n",
       "------------------------------------------------------------------------------\n",
       "X1             0.9898      0.010    100.946      0.000       0.970       1.009\n",
       "X2             5.0703      0.051     98.547      0.000       4.968       5.173\n",
       "X3             9.4503      0.568     16.646      0.000       8.319      10.582\n",
       "==============================================================================\n",
       "Omnibus:                        0.090   Durbin-Watson:                   1.691\n",
       "Prob(Omnibus):                  0.956   Jarque-Bera (JB):                0.269\n",
       "Skew:                           0.036   Prob(JB):                        0.874\n",
       "Kurtosis:                       2.715   Cond. No.                         118.\n",
       "==============================================================================\n",
       "\n",
       "Notes:\n",
       "[1] R² is computed without centering (uncentered) since the model does not contain a constant.\n",
       "[2] Standard Errors assume that the covariance matrix of the errors is correctly specified.\n",
       "\"\"\""
      ]
     },
     "execution_count": 115,
     "metadata": {},
     "output_type": "execute_result"
    }
   ],
   "source": [
    "# Model fit\n",
    "model = sm.OLS(y_train, X_train)\n",
    "results = model.fit()\n",
    "results.summary()"
   ]
  },
  {
   "cell_type": "markdown",
   "id": "bffc39fd-5c1b-4214-8517-703002ef2d21",
   "metadata": {},
   "source": [
    "$$ \\large R^2 = 1- \\dfrac{SS_{RES}}{SS_{TOT}} = 1 - \\dfrac{\\sum_i(y_i - \\hat y_i)^2}{\\sum_i(y_i - \\overline y_i)^2} $$"
   ]
  },
  {
   "cell_type": "markdown",
   "id": "fd5df240-2955-4d4d-b88e-9ecd7f6af8ea",
   "metadata": {},
   "source": [
    "R-squared: 1.000 ***100% of the variations in dependent variable $y$ are explained by the independent variables in our model.***"
   ]
  },
  {
   "cell_type": "markdown",
   "id": "61c77e26-9abe-48f3-884b-9c85a189894d",
   "metadata": {},
   "source": [
    "## Assumptions of Multiple Linear Regression"
   ]
  },
  {
   "cell_type": "markdown",
   "id": "bc8c6973-657f-49f1-827d-51807bb0811a",
   "metadata": {},
   "source": [
    "1. Linearity\n",
    "2. Independence of errors\n",
    "3. Homoscedasticity - variance of residuals is constant across all level of independent variables\n",
    "4. No multicollinearity of independent variables\n",
    "5. Normality of residuals\n"
   ]
  },
  {
   "cell_type": "markdown",
   "id": "d02cad50-847f-4f71-bc80-d9475154201c",
   "metadata": {},
   "source": [
    "> **Model Quality Checks**\n",
    "1. **Omnibus: 0.090 (p=0.956) -** Tests normality of residuals. High p-value suggests residuals are normally distributed ✓\n",
    "2. **Durbin-Watson: 1.691 -** Tests for autocorrelation. Values around 2 indicate no autocorrelation ✓\n",
    "3. **Jarque-Bera: 0.269 (p=0.874) -** Another normality test. High p-value confirms normal residuals ✓"
   ]
  },
  {
   "cell_type": "code",
   "execution_count": 121,
   "id": "6cde131b-1f06-4143-a26d-987b74d395cb",
   "metadata": {},
   "outputs": [
    {
     "data": {
      "image/png": "[encoded data removed]",
      "text/plain": [
       "<Figure size 432x288 with 1 Axes>"
      ]
     },
     "metadata": {
      "needs_background": "light"
     },
     "output_type": "display_data"
    }
   ],
   "source": [
    "# Q-Q Plot for residuals\n",
    "sm.qqplot(results.resid, line='s')\n",
    "plt.title('Q-Q Plot for residuals')\n",
    "plt.show()"
   ]
  },
  {
   "cell_type": "code",
   "execution_count": null,
   "id": "c2561853-39ef-454a-aca5-4b1673810e35",
   "metadata": {},
   "outputs": [],
   "source": []
  },
  {
   "cell_type": "code",
   "execution_count": null,
   "id": "99334299-f456-452c-90d8-23b6767d956b",
   "metadata": {},
   "outputs": [],
   "source": []
  },
  {
   "cell_type": "code",
   "execution_count": null,
   "id": "724ddcff-8d3f-4a60-b6fd-1123557d740c",
   "metadata": {},
   "outputs": [],
   "source": []
  },
  {
   "cell_type": "code",
   "execution_count": null,
   "id": "c43d825f-3a81-40fd-a5ee-62683b47e103",
   "metadata": {},
   "outputs": [],
   "source": []
  }
 ],
 "metadata": {
  "kernelspec": {
   "display_name": "Python (learn-env)",
   "language": "python",
   "name": "learn-env"
  },
  "language_info": {
   "codemirror_mode": {
    "name": "ipython",
    "version": 3
   },
   "file_extension": ".py",
   "mimetype": "text/x-python",
   "name": "python",
   "nbconvert_exporter": "python",
   "pygments_lexer": "ipython3",
   "version": "3.8.5"
  }
 },
 "nbformat": 4,
 "nbformat_minor": 5
}
