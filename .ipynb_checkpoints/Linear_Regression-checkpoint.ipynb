{
 "cells": [
  {
   "cell_type": "markdown",
   "id": "e3f4a255-464f-4a0c-84aa-a35c3285c612",
   "metadata": {},
   "source": [
    "🧪 Assignment Instructions\n",
    "\n",
    "1. Simulate a dataset of 100 rows with the following:\n",
    "\n",
    "X1: Normally distributed, mean = 50, SD = 25\n",
    "X2: Normally distributed, mean = 10, SD = 2\n",
    "X3: Binary variable (0 or 1), with a 30% probability of being 1 ",
    "\n",
    "(Tip: Use a Bernoulli distribution with p = 0.3 — the exact proportion in your dataset may vary slightly.) ",
    "\n",
    "\n",
    "2. Generate the outcome variable y as:\n",
    "\n",
    "Create y using the formula:\n",
    "\n",
    "y = 1 * X1 + 5 * X2 + 10 * X3 + error\n",
    "Where:\n",
    "\n",
    "error is a random value drawn from a normal distribution with a mean of 0 and a standard deviation of 2.\n",
    "3. Fit a linear regression model:\n",
    "\n",
    "Model: y ~ X1 + X2 + X3\n",
    "Use the statsmodels library in Python.\n",
    "Output the following:\n",
    "Coefficients for each variable\n",
    "R-squared value\n",
    "P-values for each coefficient\n"
   ]
  },
  {
   "cell_type": "code",
   "execution_count": 4,
   "id": "1c0c3c60-1178-43cd-9dc5-b6445bc2b743",
   "metadata": {},
   "outputs": [],
   "source": [
    "# Import libraries\n",
    "import pandas as pd\n",
    "import numpy as np\n"
   ]
  },
  {
   "cell_type": "code",
   "execution_count": null,
   "id": "a876a40a-dc73-427f-9f20-865fce67fad5",
   "metadata": {},
   "outputs": [],
   "source": []
  },
  {
   "cell_type": "code",
   "execution_count": null,
   "id": "7e8a3741-2e53-40ed-ac3e-f3f0dd5427fd",
   "metadata": {},
   "outputs": [],
   "source": []
  }
 ],
 "metadata": {
  "kernelspec": {
   "display_name": "Python (learn-env)",
   "language": "python",
   "name": "learn-env"
  },
  "language_info": {
   "codemirror_mode": {
    "name": "ipython",
    "version": 3
   },
   "file_extension": ".py",
   "mimetype": "text/x-python",
   "name": "python",
   "nbconvert_exporter": "python",
   "pygments_lexer": "ipython3",
   "version": "3.8.5"
  }
 },
 "nbformat": 4,
 "nbformat_minor": 5
}
